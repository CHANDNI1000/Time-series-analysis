{
  "nbformat": 4,
  "nbformat_minor": 0,
  "metadata": {
    "colab": {
      "name": "Time series analysis.ipynb",
      "provenance": [],
      "collapsed_sections": [],
      "authorship_tag": "ABX9TyNUbDX7oHT52Z9JcdDLnhGO",
      "include_colab_link": true
    },
    "kernelspec": {
      "name": "python3",
      "display_name": "Python 3"
    },
    "language_info": {
      "name": "python"
    }
  },
  "cells": [
    {
      "cell_type": "markdown",
      "metadata": {
        "id": "view-in-github",
        "colab_type": "text"
      },
      "source": [
        "<a href=\"https://colab.research.google.com/github/CHANDNI1000/Time-series-analysis/blob/main/Time_series_analysis.ipynb\" target=\"_parent\"><img src=\"https://colab.research.google.com/assets/colab-badge.svg\" alt=\"Open In Colab\"/></a>"
      ]
    },
    {
      "cell_type": "code",
      "metadata": {
        "id": "3q4RE25Va9jf"
      },
      "source": [
        "import numpy as np\n",
        "import pandas as pd\n",
        "import matplotlib.pyplot as plt\n",
        "import seaborn as sns\n",
        "from scipy.stats.mstats import winsorize"
      ],
      "execution_count": 2,
      "outputs": []
    },
    {
      "cell_type": "code",
      "metadata": {
        "id": "dXan9l_EX4Ns"
      },
      "source": [
        "# data_day = pd.read_csv('gemini_BTCUSD_day.csv')\n",
        "# data_min_2020 = pd.read_csv('gemini_BTCUSD_2020_1min.csv')\n",
        "# data_min_2021 = pd.read_csv('gemini_BTCUSD_2021_1min.csv')\n",
        "# data_hr = pd.read_csv('gemini_BTCUSD_1hr.csv')"
      ],
      "execution_count": 3,
      "outputs": []
    },
    {
      "cell_type": "code",
      "metadata": {
        "colab": {
          "base_uri": "https://localhost:8080/",
          "height": 414
        },
        "id": "sCG4OCyQbCXv",
        "outputId": "0618e0ee-e638-4de3-f063-1b27971c7754"
      },
      "source": [
        "data_day = pd.read_csv('gemini_BTCUSD_day.csv',skiprows=1)\n",
        "data_day"
      ],
      "execution_count": 4,
      "outputs": [
        {
          "output_type": "execute_result",
          "data": {
            "text/html": [
              "<div>\n",
              "<style scoped>\n",
              "    .dataframe tbody tr th:only-of-type {\n",
              "        vertical-align: middle;\n",
              "    }\n",
              "\n",
              "    .dataframe tbody tr th {\n",
              "        vertical-align: top;\n",
              "    }\n",
              "\n",
              "    .dataframe thead th {\n",
              "        text-align: right;\n",
              "    }\n",
              "</style>\n",
              "<table border=\"1\" class=\"dataframe\">\n",
              "  <thead>\n",
              "    <tr style=\"text-align: right;\">\n",
              "      <th></th>\n",
              "      <th>Unix Timestamp</th>\n",
              "      <th>Date</th>\n",
              "      <th>Symbol</th>\n",
              "      <th>Open</th>\n",
              "      <th>High</th>\n",
              "      <th>Low</th>\n",
              "      <th>Close</th>\n",
              "      <th>Volume</th>\n",
              "    </tr>\n",
              "  </thead>\n",
              "  <tbody>\n",
              "    <tr>\n",
              "      <th>0</th>\n",
              "      <td>1632283200000</td>\n",
              "      <td>2021-09-22 04:00:00</td>\n",
              "      <td>BTCUSD</td>\n",
              "      <td>42089.88</td>\n",
              "      <td>44047.48</td>\n",
              "      <td>41836.59</td>\n",
              "      <td>43559.58</td>\n",
              "      <td>1051.581492</td>\n",
              "    </tr>\n",
              "    <tr>\n",
              "      <th>1</th>\n",
              "      <td>1632196800000</td>\n",
              "      <td>2021-09-21 04:00:00</td>\n",
              "      <td>BTCUSD</td>\n",
              "      <td>42688.03</td>\n",
              "      <td>43655.53</td>\n",
              "      <td>39590.00</td>\n",
              "      <td>42089.88</td>\n",
              "      <td>2962.611037</td>\n",
              "    </tr>\n",
              "    <tr>\n",
              "      <th>2</th>\n",
              "      <td>1632110400000</td>\n",
              "      <td>2021-09-20 04:00:00</td>\n",
              "      <td>BTCUSD</td>\n",
              "      <td>45553.62</td>\n",
              "      <td>45837.90</td>\n",
              "      <td>40137.98</td>\n",
              "      <td>42688.03</td>\n",
              "      <td>4373.379477</td>\n",
              "    </tr>\n",
              "    <tr>\n",
              "      <th>3</th>\n",
              "      <td>1632024000000</td>\n",
              "      <td>2021-09-19 04:00:00</td>\n",
              "      <td>BTCUSD</td>\n",
              "      <td>47854.23</td>\n",
              "      <td>48333.32</td>\n",
              "      <td>45175.20</td>\n",
              "      <td>45553.62</td>\n",
              "      <td>860.712331</td>\n",
              "    </tr>\n",
              "    <tr>\n",
              "      <th>4</th>\n",
              "      <td>1631937600000</td>\n",
              "      <td>2021-09-18 04:00:00</td>\n",
              "      <td>BTCUSD</td>\n",
              "      <td>47962.79</td>\n",
              "      <td>48808.97</td>\n",
              "      <td>47613.93</td>\n",
              "      <td>47854.23</td>\n",
              "      <td>671.356150</td>\n",
              "    </tr>\n",
              "    <tr>\n",
              "      <th>...</th>\n",
              "      <td>...</td>\n",
              "      <td>...</td>\n",
              "      <td>...</td>\n",
              "      <td>...</td>\n",
              "      <td>...</td>\n",
              "      <td>...</td>\n",
              "      <td>...</td>\n",
              "      <td>...</td>\n",
              "    </tr>\n",
              "    <tr>\n",
              "      <th>2172</th>\n",
              "      <td>1444622400</td>\n",
              "      <td>2015-10-12 04:00:00</td>\n",
              "      <td>BTCUSD</td>\n",
              "      <td>248.98</td>\n",
              "      <td>248.98</td>\n",
              "      <td>245.75</td>\n",
              "      <td>245.75</td>\n",
              "      <td>71.047743</td>\n",
              "    </tr>\n",
              "    <tr>\n",
              "      <th>2173</th>\n",
              "      <td>1444536000</td>\n",
              "      <td>2015-10-11 04:00:00</td>\n",
              "      <td>BTCUSD</td>\n",
              "      <td>246.30</td>\n",
              "      <td>249.50</td>\n",
              "      <td>245.96</td>\n",
              "      <td>248.98</td>\n",
              "      <td>22.747091</td>\n",
              "    </tr>\n",
              "    <tr>\n",
              "      <th>2174</th>\n",
              "      <td>1444449600</td>\n",
              "      <td>2015-10-10 04:00:00</td>\n",
              "      <td>BTCUSD</td>\n",
              "      <td>245.51</td>\n",
              "      <td>246.30</td>\n",
              "      <td>244.60</td>\n",
              "      <td>246.30</td>\n",
              "      <td>30.870549</td>\n",
              "    </tr>\n",
              "    <tr>\n",
              "      <th>2175</th>\n",
              "      <td>1444363200</td>\n",
              "      <td>2015-10-09 04:00:00</td>\n",
              "      <td>BTCUSD</td>\n",
              "      <td>243.60</td>\n",
              "      <td>249.97</td>\n",
              "      <td>243.60</td>\n",
              "      <td>245.51</td>\n",
              "      <td>61.587068</td>\n",
              "    </tr>\n",
              "    <tr>\n",
              "      <th>2176</th>\n",
              "      <td>1444276800</td>\n",
              "      <td>2015-10-08 04:00:00</td>\n",
              "      <td>BTCUSD</td>\n",
              "      <td>0.00</td>\n",
              "      <td>245.00</td>\n",
              "      <td>0.00</td>\n",
              "      <td>243.60</td>\n",
              "      <td>34.754703</td>\n",
              "    </tr>\n",
              "  </tbody>\n",
              "</table>\n",
              "<p>2177 rows × 8 columns</p>\n",
              "</div>"
            ],
            "text/plain": [
              "      Unix Timestamp                 Date  ...     Close       Volume\n",
              "0      1632283200000  2021-09-22 04:00:00  ...  43559.58  1051.581492\n",
              "1      1632196800000  2021-09-21 04:00:00  ...  42089.88  2962.611037\n",
              "2      1632110400000  2021-09-20 04:00:00  ...  42688.03  4373.379477\n",
              "3      1632024000000  2021-09-19 04:00:00  ...  45553.62   860.712331\n",
              "4      1631937600000  2021-09-18 04:00:00  ...  47854.23   671.356150\n",
              "...              ...                  ...  ...       ...          ...\n",
              "2172      1444622400  2015-10-12 04:00:00  ...    245.75    71.047743\n",
              "2173      1444536000  2015-10-11 04:00:00  ...    248.98    22.747091\n",
              "2174      1444449600  2015-10-10 04:00:00  ...    246.30    30.870549\n",
              "2175      1444363200  2015-10-09 04:00:00  ...    245.51    61.587068\n",
              "2176      1444276800  2015-10-08 04:00:00  ...    243.60    34.754703\n",
              "\n",
              "[2177 rows x 8 columns]"
            ]
          },
          "metadata": {},
          "execution_count": 4
        }
      ]
    },
    {
      "cell_type": "code",
      "metadata": {
        "id": "y7BbRHcgbsTj"
      },
      "source": [
        "data_day_new = data_day.iloc[:,1:]"
      ],
      "execution_count": 5,
      "outputs": []
    },
    {
      "cell_type": "code",
      "metadata": {
        "colab": {
          "base_uri": "https://localhost:8080/",
          "height": 294
        },
        "id": "pbD5UlbAjZRE",
        "outputId": "d77292b2-8f62-423a-bd5a-2f484df8c465"
      },
      "source": [
        "data_day_new.describe()"
      ],
      "execution_count": 6,
      "outputs": [
        {
          "output_type": "execute_result",
          "data": {
            "text/html": [
              "<div>\n",
              "<style scoped>\n",
              "    .dataframe tbody tr th:only-of-type {\n",
              "        vertical-align: middle;\n",
              "    }\n",
              "\n",
              "    .dataframe tbody tr th {\n",
              "        vertical-align: top;\n",
              "    }\n",
              "\n",
              "    .dataframe thead th {\n",
              "        text-align: right;\n",
              "    }\n",
              "</style>\n",
              "<table border=\"1\" class=\"dataframe\">\n",
              "  <thead>\n",
              "    <tr style=\"text-align: right;\">\n",
              "      <th></th>\n",
              "      <th>Open</th>\n",
              "      <th>High</th>\n",
              "      <th>Low</th>\n",
              "      <th>Close</th>\n",
              "      <th>Volume</th>\n",
              "    </tr>\n",
              "  </thead>\n",
              "  <tbody>\n",
              "    <tr>\n",
              "      <th>count</th>\n",
              "      <td>2177.000000</td>\n",
              "      <td>2177.000000</td>\n",
              "      <td>2177.000000</td>\n",
              "      <td>2177.000000</td>\n",
              "      <td>2177.000000</td>\n",
              "    </tr>\n",
              "    <tr>\n",
              "      <th>mean</th>\n",
              "      <td>10542.995126</td>\n",
              "      <td>10880.177984</td>\n",
              "      <td>10181.879421</td>\n",
              "      <td>10562.938989</td>\n",
              "      <td>3394.880237</td>\n",
              "    </tr>\n",
              "    <tr>\n",
              "      <th>std</th>\n",
              "      <td>13782.488666</td>\n",
              "      <td>14235.860103</td>\n",
              "      <td>13265.826031</td>\n",
              "      <td>13798.781847</td>\n",
              "      <td>4019.630731</td>\n",
              "    </tr>\n",
              "    <tr>\n",
              "      <th>min</th>\n",
              "      <td>0.000000</td>\n",
              "      <td>245.000000</td>\n",
              "      <td>0.000000</td>\n",
              "      <td>243.600000</td>\n",
              "      <td>0.000000</td>\n",
              "    </tr>\n",
              "    <tr>\n",
              "      <th>25%</th>\n",
              "      <td>1205.930000</td>\n",
              "      <td>1232.620000</td>\n",
              "      <td>1181.160000</td>\n",
              "      <td>1206.970000</td>\n",
              "      <td>1114.496207</td>\n",
              "    </tr>\n",
              "    <tr>\n",
              "      <th>50%</th>\n",
              "      <td>6769.440000</td>\n",
              "      <td>6954.630000</td>\n",
              "      <td>6580.410000</td>\n",
              "      <td>6770.000000</td>\n",
              "      <td>2083.838052</td>\n",
              "    </tr>\n",
              "    <tr>\n",
              "      <th>75%</th>\n",
              "      <td>10317.240000</td>\n",
              "      <td>10582.640000</td>\n",
              "      <td>10026.730000</td>\n",
              "      <td>10330.060000</td>\n",
              "      <td>4014.272963</td>\n",
              "    </tr>\n",
              "    <tr>\n",
              "      <th>max</th>\n",
              "      <td>63773.180000</td>\n",
              "      <td>64900.000000</td>\n",
              "      <td>62045.000000</td>\n",
              "      <td>63773.180000</td>\n",
              "      <td>54142.433523</td>\n",
              "    </tr>\n",
              "  </tbody>\n",
              "</table>\n",
              "</div>"
            ],
            "text/plain": [
              "               Open          High           Low         Close        Volume\n",
              "count   2177.000000   2177.000000   2177.000000   2177.000000   2177.000000\n",
              "mean   10542.995126  10880.177984  10181.879421  10562.938989   3394.880237\n",
              "std    13782.488666  14235.860103  13265.826031  13798.781847   4019.630731\n",
              "min        0.000000    245.000000      0.000000    243.600000      0.000000\n",
              "25%     1205.930000   1232.620000   1181.160000   1206.970000   1114.496207\n",
              "50%     6769.440000   6954.630000   6580.410000   6770.000000   2083.838052\n",
              "75%    10317.240000  10582.640000  10026.730000  10330.060000   4014.272963\n",
              "max    63773.180000  64900.000000  62045.000000  63773.180000  54142.433523"
            ]
          },
          "metadata": {},
          "execution_count": 6
        }
      ]
    },
    {
      "cell_type": "code",
      "metadata": {
        "colab": {
          "base_uri": "https://localhost:8080/",
          "height": 667
        },
        "id": "5OscmLbFjkQr",
        "outputId": "6ca744b7-4532-4a0b-af49-666f8a52ea61"
      },
      "source": [
        "data_day_new.plot(x = 'Date', y = 'Open', figsize = (12,6))\n",
        "data_day_new.plot(x = 'Date', y = 'Close')\n",
        "plt.xlabel('date time')\n",
        "plt.ylabel('Open price')"
      ],
      "execution_count": 7,
      "outputs": [
        {
          "output_type": "execute_result",
          "data": {
            "text/plain": [
              "Text(0, 0.5, 'Open price')"
            ]
          },
          "metadata": {},
          "execution_count": 7
        },
        {
          "output_type": "display_data",
          "data": {
            "image/png": "[encoded data removed]",
            "text/plain": [
              "<Figure size 864x432 with 1 Axes>"
            ]
          },
          "metadata": {
            "needs_background": "light"
          }
        },
        {
          "output_type": "display_data",
          "data": {
            "image/png": "[encoded data removed]",
            "text/plain": [
              "<Figure size 432x288 with 1 Axes>"
            ]
          },
          "metadata": {
            "needs_background": "light"
          }
        }
      ]
    },
    {
      "cell_type": "markdown",
      "metadata": {
        "id": "aRDTwXwqhTWF"
      },
      "source": [
        "Getting min and max values\n"
      ]
    },
    {
      "cell_type": "code",
      "metadata": {
        "colab": {
          "base_uri": "https://localhost:8080/"
        },
        "id": "_EFGx5XldqQ-",
        "outputId": "7c527384-69ef-4501-b4b6-021487c7008b"
      },
      "source": [
        "data_day_new.apply(lambda x : x.max())"
      ],
      "execution_count": 8,
      "outputs": [
        {
          "output_type": "execute_result",
          "data": {
            "text/plain": [
              "Date      2021-09-22 04:00:00\n",
              "Symbol                 BTCUSD\n",
              "Open                  63773.2\n",
              "High                    64900\n",
              "Low                     62045\n",
              "Close                 63773.2\n",
              "Volume                54142.4\n",
              "dtype: object"
            ]
          },
          "metadata": {},
          "execution_count": 8
        }
      ]
    },
    {
      "cell_type": "code",
      "metadata": {
        "colab": {
          "base_uri": "https://localhost:8080/"
        },
        "id": "fTKykIUBeZ-a",
        "outputId": "ea93deb2-ecde-4e7a-9355-5ca073468984"
      },
      "source": [
        "data_day_new.apply(lambda x : x.min())"
      ],
      "execution_count": 9,
      "outputs": [
        {
          "output_type": "execute_result",
          "data": {
            "text/plain": [
              "Date      2015-10-08 04:00:00\n",
              "Symbol                 BTCUSD\n",
              "Open                        0\n",
              "High                      245\n",
              "Low                         0\n",
              "Close                   243.6\n",
              "Volume                      0\n",
              "dtype: object"
            ]
          },
          "metadata": {},
          "execution_count": 9
        }
      ]
    },
    {
      "cell_type": "code",
      "metadata": {
        "id": "X1-1jg2ZdYJF"
      },
      "source": [
        "data_day['Date'] = pd.to_datetime(data_day['Date'])"
      ],
      "execution_count": 10,
      "outputs": []
    },
    {
      "cell_type": "code",
      "metadata": {
        "colab": {
          "base_uri": "https://localhost:8080/"
        },
        "id": "WCOqAyXaa9bP",
        "outputId": "7cf0e1b1-cf79-4572-8ea1-a3c5ed394f87"
      },
      "source": [
        "data_day.info()"
      ],
      "execution_count": 11,
      "outputs": [
        {
          "output_type": "stream",
          "name": "stdout",
          "text": [
            "<class 'pandas.core.frame.DataFrame'>\n",
            "RangeIndex: 2177 entries, 0 to 2176\n",
            "Data columns (total 8 columns):\n",
            " #   Column          Non-Null Count  Dtype         \n",
            "---  ------          --------------  -----         \n",
            " 0   Unix Timestamp  2177 non-null   int64         \n",
            " 1   Date            2177 non-null   datetime64[ns]\n",
            " 2   Symbol          2177 non-null   object        \n",
            " 3   Open            2177 non-null   float64       \n",
            " 4   High            2177 non-null   float64       \n",
            " 5   Low             2177 non-null   float64       \n",
            " 6   Close           2177 non-null   float64       \n",
            " 7   Volume          2177 non-null   float64       \n",
            "dtypes: datetime64[ns](1), float64(5), int64(1), object(1)\n",
            "memory usage: 136.2+ KB\n"
          ]
        }
      ]
    },
    {
      "cell_type": "markdown",
      "metadata": {
        "id": "1rQrXXgIiODt"
      },
      "source": [
        "Getting % of missing values"
      ]
    },
    {
      "cell_type": "code",
      "metadata": {
        "id": "Dg6o2zHKiRju"
      },
      "source": [
        "def calc_percent_NAs(df):\n",
        "  nans = pd.DataFrame(df.isnull().sum().sort_values(ascending = False)/len(df),columns= ['Percent of missing data'])\n",
        "  idx = nans['Percent of missing data'] > 0\n",
        "  return nans[idx]"
      ],
      "execution_count": 12,
      "outputs": []
    },
    {
      "cell_type": "code",
      "metadata": {
        "colab": {
          "base_uri": "https://localhost:8080/",
          "height": 48
        },
        "id": "1Jm_JOYWiRg1",
        "outputId": "8ab0758f-ebf1-4352-8569-3aa65a8c7021"
      },
      "source": [
        "calc_percent_NAs(data_day)"
      ],
      "execution_count": 13,
      "outputs": [
        {
          "output_type": "execute_result",
          "data": {
            "text/html": [
              "<div>\n",
              "<style scoped>\n",
              "    .dataframe tbody tr th:only-of-type {\n",
              "        vertical-align: middle;\n",
              "    }\n",
              "\n",
              "    .dataframe tbody tr th {\n",
              "        vertical-align: top;\n",
              "    }\n",
              "\n",
              "    .dataframe thead th {\n",
              "        text-align: right;\n",
              "    }\n",
              "</style>\n",
              "<table border=\"1\" class=\"dataframe\">\n",
              "  <thead>\n",
              "    <tr style=\"text-align: right;\">\n",
              "      <th></th>\n",
              "      <th>Percent of missing data</th>\n",
              "    </tr>\n",
              "  </thead>\n",
              "  <tbody>\n",
              "  </tbody>\n",
              "</table>\n",
              "</div>"
            ],
            "text/plain": [
              "Empty DataFrame\n",
              "Columns: [Percent of missing data]\n",
              "Index: []"
            ]
          },
          "metadata": {},
          "execution_count": 13
        }
      ]
    },
    {
      "cell_type": "markdown",
      "metadata": {
        "id": "q_0VxPf-hRLA"
      },
      "source": [
        "Getting outliers"
      ]
    },
    {
      "cell_type": "code",
      "metadata": {
        "colab": {
          "base_uri": "https://localhost:8080/",
          "height": 278
        },
        "id": "Z9K1Jz1fbxMv",
        "outputId": "57f4c1f8-6052-46aa-cbca-9d1bda5b031a"
      },
      "source": [
        "sns.boxplot(x = data_day_new['Open'])\n",
        "plt.show()"
      ],
      "execution_count": 14,
      "outputs": [
        {
          "output_type": "display_data",
          "data": {
            "image/png": "[encoded data removed]",
            "text/plain": [
              "<Figure size 432x288 with 1 Axes>"
            ]
          },
          "metadata": {
            "needs_background": "light"
          }
        }
      ]
    },
    {
      "cell_type": "code",
      "metadata": {
        "id": "f19SJA7QcfRT"
      },
      "source": [
        "def fences(df,variable_name):\n",
        "  q1 = df[variable_name].quantile(0.25)\n",
        "  q3 = df[variable_name].quantile(0.75)\n",
        "  iqr = q3-q1\n",
        "  outer_fence = 3 * iqr\n",
        "  outer_fence_le = q1 - outer_fence\n",
        "  outer_fence_ue = q3 + outer_fence\n",
        "  return outer_fence_le,outer_fence_ue\n",
        "\n",
        "outer_fence_le_open,outer_fence_ue_open = fences(data_day_new,'Open')\n"
      ],
      "execution_count": 17,
      "outputs": []
    },
    {
      "cell_type": "code",
      "metadata": {
        "colab": {
          "base_uri": "https://localhost:8080/"
        },
        "id": "Zy2BGr8dczlN",
        "outputId": "41e58070-30c6-4da1-bbff-fc026d6a7466"
      },
      "source": [
        "outer_fence_ue_open"
      ],
      "execution_count": 19,
      "outputs": [
        {
          "output_type": "execute_result",
          "data": {
            "text/plain": [
              "37651.17"
            ]
          },
          "metadata": {},
          "execution_count": 19
        }
      ]
    },
    {
      "cell_type": "code",
      "metadata": {
        "colab": {
          "base_uri": "https://localhost:8080/"
        },
        "id": "tDS13z6RW4Ur",
        "outputId": "89869c89-663b-4273-93cb-28f1885edb16"
      },
      "source": [
        "data_day_new['Open'].quantile(0.925)"
      ],
      "execution_count": 22,
      "outputs": [
        {
          "output_type": "execute_result",
          "data": {
            "text/plain": [
              "38893.36"
            ]
          },
          "metadata": {},
          "execution_count": 22
        }
      ]
    },
    {
      "cell_type": "code",
      "metadata": {
        "id": "bzYHVQEhWgJg"
      },
      "source": [
        "data_day_new_win = data_day_new.copy()"
      ],
      "execution_count": 20,
      "outputs": []
    },
    {
      "cell_type": "code",
      "metadata": {
        "id": "w1n1X-ckW37J"
      },
      "source": [
        ""
      ],
      "execution_count": null,
      "outputs": []
    },
    {
      "cell_type": "code",
      "metadata": {
        "id": "8QbOQhwDWzpY"
      },
      "source": [
        "data_day_new_win['Open_wins_95%'] =  winsorize(data_day_new['Open'],limits=(0,0.05))"
      ],
      "execution_count": 24,
      "outputs": []
    },
    {
      "cell_type": "code",
      "metadata": {
        "colab": {
          "base_uri": "https://localhost:8080/"
        },
        "id": "wCjrueY_XKh2",
        "outputId": "5e930d37-bca0-4f6c-8db8-288f3f81fe6c"
      },
      "source": [
        "data_day_new_win.describe"
      ],
      "execution_count": 25,
      "outputs": [
        {
          "output_type": "execute_result",
          "data": {
            "text/plain": [
              "<bound method NDFrame.describe of                      Date  Symbol  ...       Volume  Open_wins_95%\n",
              "0     2021-09-22 04:00:00  BTCUSD  ...  1051.581492       42089.88\n",
              "1     2021-09-21 04:00:00  BTCUSD  ...  2962.611037       42688.03\n",
              "2     2021-09-20 04:00:00  BTCUSD  ...  4373.379477       45553.62\n",
              "3     2021-09-19 04:00:00  BTCUSD  ...   860.712331       47400.89\n",
              "4     2021-09-18 04:00:00  BTCUSD  ...   671.356150       47400.89\n",
              "...                   ...     ...  ...          ...            ...\n",
              "2172  2015-10-12 04:00:00  BTCUSD  ...    71.047743         248.98\n",
              "2173  2015-10-11 04:00:00  BTCUSD  ...    22.747091         246.30\n",
              "2174  2015-10-10 04:00:00  BTCUSD  ...    30.870549         245.51\n",
              "2175  2015-10-09 04:00:00  BTCUSD  ...    61.587068         243.60\n",
              "2176  2015-10-08 04:00:00  BTCUSD  ...    34.754703           0.00\n",
              "\n",
              "[2177 rows x 8 columns]>"
            ]
          },
          "metadata": {},
          "execution_count": 25
        }
      ]
    },
    {
      "cell_type": "code",
      "metadata": {
        "colab": {
          "base_uri": "https://localhost:8080/",
          "height": 353
        },
        "id": "s2h0eQVpXN3N",
        "outputId": "ea2998cc-13f2-4caf-9da8-bdc708ba9309"
      },
      "source": [
        "# sns.displot(data_day_new['Open'])\n",
        "sns.distplot(data_day_new_win['Open_wins_95%'])"
      ],
      "execution_count": 28,
      "outputs": [
        {
          "output_type": "stream",
          "name": "stderr",
          "text": [
            "/usr/local/lib/python3.7/dist-packages/seaborn/distributions.py:2619: FutureWarning: `distplot` is a deprecated function and will be removed in a future version. Please adapt your code to use either `displot` (a figure-level function with similar flexibility) or `histplot` (an axes-level function for histograms).\n",
            "  warnings.warn(msg, FutureWarning)\n"
          ]
        },
        {
          "output_type": "execute_result",
          "data": {
            "text/plain": [
              "<matplotlib.axes._subplots.AxesSubplot at 0x7f231b6f6150>"
            ]
          },
          "metadata": {},
          "execution_count": 28
        },
        {
          "output_type": "display_data",
          "data": {
            "image/png": "[encoded data removed]",
            "text/plain": [
              "<Figure size 432x288 with 1 Axes>"
            ]
          },
          "metadata": {
            "needs_background": "light"
          }
        }
      ]
    },
    {
      "cell_type": "code",
      "metadata": {
        "colab": {
          "base_uri": "https://localhost:8080/",
          "height": 386
        },
        "id": "FebPu51hXTRS",
        "outputId": "7598e782-6ce8-4347-eddf-4bcaf1dbe5b0"
      },
      "source": [
        "sns.displot(data_day_new['Open'])"
      ],
      "execution_count": 29,
      "outputs": [
        {
          "output_type": "execute_result",
          "data": {
            "text/plain": [
              "<seaborn.axisgrid.FacetGrid at 0x7f231b1e6290>"
            ]
          },
          "metadata": {},
          "execution_count": 29
        },
        {
          "output_type": "display_data",
          "data": {
            "image/png": "[encoded data removed]",
            "text/plain": [
              "<Figure size 360x360 with 1 Axes>"
            ]
          },
          "metadata": {
            "needs_background": "light"
          }
        }
      ]
    },
    {
      "cell_type": "code",
      "metadata": {
        "id": "ZbvSB_gaXe_v"
      },
      "source": [
        ""
      ],
      "execution_count": null,
      "outputs": []
    }
  ]
}